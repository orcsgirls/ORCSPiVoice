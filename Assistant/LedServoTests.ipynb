{
 "cells": [
  {
   "cell_type": "markdown",
   "id": "960f6eee",
   "metadata": {},
   "source": [
    "### IO Tests\n",
    "\n",
    "These are some simple test routines to test the servo and Led connected to the AIY Voice Kit. This assumes the Led is on PIN_A and the servo is on PIN_B."
   ]
  },
  {
   "cell_type": "code",
   "execution_count": 1,
   "id": "20a7fbbb",
   "metadata": {},
   "outputs": [],
   "source": [
    "from gpiozero import LED, Servo\n",
    "from aiy.pins import PIN_A, PIN_B\n",
    "from time import sleep"
   ]
  },
  {
   "cell_type": "markdown",
   "id": "a25a0690",
   "metadata": {},
   "source": [
    "#### Creating servo and led objects\n",
    "\n",
    "It seems that when running as part of a Jupyter notebook, you cannot rerun this cell without restarting the kernel. So only run once 😎 Here you can change the pin assigment if you have different wiring."
   ]
  },
  {
   "cell_type": "code",
   "execution_count": 2,
   "id": "e0d84b9c",
   "metadata": {},
   "outputs": [],
   "source": [
    "#servo = Servo(PIN_B)\n",
    "led   = LED(PIN_A)"
   ]
  },
  {
   "cell_type": "markdown",
   "id": "4c8f244e",
   "metadata": {},
   "source": [
    "#### Blink the Led"
   ]
  },
  {
   "cell_type": "code",
   "execution_count": 3,
   "id": "7ab12be9",
   "metadata": {},
   "outputs": [],
   "source": [
    "for i in range(15):\n",
    "    led.on()\n",
    "    sleep(0.5)\n",
    "    led.off()\n",
    "    sleep(0.5)"
   ]
  },
  {
   "cell_type": "markdown",
   "id": "b6792b12",
   "metadata": {},
   "source": [
    "#### Turn the servo \n",
    "\n",
    "Commands are `servo.max()` for the maximum angle, `servo.min()` for the minimal angle and `servo.mid()` to move it to the middle (0). Alternatively you can set or query the angle using `servo.value` which ranges from -1 to 1."
   ]
  },
  {
   "cell_type": "code",
   "execution_count": null,
   "id": "d3b2af80",
   "metadata": {},
   "outputs": [],
   "source": [
    "servo.mid()\n",
    "\n",
    "for i in range(-10,10):\n",
    "    servo.value=0.1*i\n",
    "    sleep(0.2)\n",
    "    \n",
    "servo.mid()"
   ]
  },
  {
   "cell_type": "markdown",
   "id": "6d84b24f",
   "metadata": {},
   "source": [
    "#### Using it all togehter\n",
    "\n",
    "Here we turn the Led on while the servo moves - like a warning light!"
   ]
  },
  {
   "cell_type": "code",
   "execution_count": null,
   "id": "557119c7",
   "metadata": {},
   "outputs": [],
   "source": [
    "led.on()\n",
    "servo.mid()\n",
    "\n",
    "for i in range(-10,10):\n",
    "    servo.value=0.1*i\n",
    "    sleep(0.2)\n",
    "\n",
    "servo.mid()    \n",
    "led.off()"
   ]
  },
  {
   "cell_type": "code",
   "execution_count": null,
   "id": "5c1f6040",
   "metadata": {},
   "outputs": [],
   "source": []
  }
 ],
 "metadata": {
  "kernelspec": {
   "display_name": "Python 3 (ipykernel)",
   "language": "python",
   "name": "python3"
  },
  "language_info": {
   "codemirror_mode": {
    "name": "ipython",
    "version": 3
   },
   "file_extension": ".py",
   "mimetype": "text/x-python",
   "name": "python",
   "nbconvert_exporter": "python",
   "pygments_lexer": "ipython3",
   "version": "3.7.3"
  }
 },
 "nbformat": 4,
 "nbformat_minor": 5
}
