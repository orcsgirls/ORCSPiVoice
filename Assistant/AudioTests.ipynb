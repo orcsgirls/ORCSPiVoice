{
 "cells": [
  {
   "cell_type": "markdown",
   "id": "8aec73c2",
   "metadata": {},
   "source": [
    "#### Audio tests\n",
    "\n",
    "Here is some code to play audio and record your voice to make sure speaker and microphone are working. **Make sure you reduced the volume by running `alsamixer` or `amixer set Master 40%` in a terminal on the Voice Kit.**"
   ]
  },
  {
   "cell_type": "code",
   "execution_count": 5,
   "id": "2d7c97f5",
   "metadata": {},
   "outputs": [],
   "source": [
    "import tempfile\n",
    "import time\n",
    "from aiy.voice.audio import AudioFormat, play_wav, record_file\n",
    "\n",
    "TEST_SOUND_PATH = '/usr/share/sounds/alsa/Front_Center.wav'\n",
    "RECORD_DURATION_SECONDS = 3"
   ]
  },
  {
   "cell_type": "markdown",
   "id": "6b0e34b4",
   "metadata": {},
   "source": [
    "##### Playing a sound\n",
    "\n",
    "Run the next cell and you should hear the words 'Front center' spoken."
   ]
  },
  {
   "cell_type": "code",
   "execution_count": 3,
   "id": "e39e04e0",
   "metadata": {},
   "outputs": [
    {
     "name": "stdout",
     "output_type": "stream",
     "text": [
      "Hope you heard the sound :)\n"
     ]
    }
   ],
   "source": [
    "play_wav(TEST_SOUND_PATH)\n",
    "print('Hope you heard the sound :)')"
   ]
  },
  {
   "cell_type": "markdown",
   "id": "6be78c98",
   "metadata": {},
   "source": [
    "##### Recording\n",
    "\n",
    "Now we record sound for three seconds and play it back. Run the next cell and then press enter when ready to speak or sing :)"
   ]
  },
  {
   "cell_type": "code",
   "execution_count": 4,
   "id": "2a9c7525",
   "metadata": {},
   "outputs": [
    {
     "name": "stdout",
     "output_type": "stream",
     "text": [
      "Press enter when you are ready and say \"Testing, 1 2 3\"...\n",
      "Recording for 3 seconds...\n",
      "Playing back recorded audio...\n"
     ]
    }
   ],
   "source": [
    "with tempfile.NamedTemporaryFile() as f:\n",
    "    input('Press enter when you are ready and say \"Testing, 1 2 3\"...')\n",
    "    print('Recording for %d seconds...' % RECORD_DURATION_SECONDS)\n",
    "\n",
    "    record_file(AudioFormat.CD, filename=f.name, filetype='wav',\n",
    "                wait=lambda: time.sleep(RECORD_DURATION_SECONDS))\n",
    "    print('Playing back recorded audio...')\n",
    "    play_wav(f.name)"
   ]
  },
  {
   "cell_type": "code",
   "execution_count": null,
   "id": "39e755e3",
   "metadata": {},
   "outputs": [],
   "source": []
  }
 ],
 "metadata": {
  "kernelspec": {
   "display_name": "Python 3 (ipykernel)",
   "language": "python",
   "name": "python3"
  },
  "language_info": {
   "codemirror_mode": {
    "name": "ipython",
    "version": 3
   },
   "file_extension": ".py",
   "mimetype": "text/x-python",
   "name": "python",
   "nbconvert_exporter": "python",
   "pygments_lexer": "ipython3",
   "version": "3.7.3"
  }
 },
 "nbformat": 4,
 "nbformat_minor": 5
}
