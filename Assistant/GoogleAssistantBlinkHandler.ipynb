{
 "cells": [
  {
   "cell_type": "markdown",
   "id": "43dc7526",
   "metadata": {},
   "source": [
    "## Google Assistant with Blinky Light Action\n",
    "\n",
    "This is the code you used earlier to run the Google Assistant on the AIY Voice Kit. "
   ]
  },
  {
   "cell_type": "code",
   "execution_count": 1,
   "id": "ea3e89b2",
   "metadata": {},
   "outputs": [],
   "source": [
    "import argparse\n",
    "import locale\n",
    "import logging\n",
    "import signal\n",
    "import sys\n",
    "import time\n",
    "\n",
    "from aiy.assistant.grpc import AssistantServiceClientWithLed\n",
    "from aiy.assistant import auth_helpers, device_helpers, device_handler_helpers\n",
    "from aiy.board import Board\n",
    "from aiy.leds import Leds, Color"
   ]
  },
  {
   "cell_type": "markdown",
   "id": "810bda13",
   "metadata": {},
   "source": [
    "Things we need to blink the LED"
   ]
  },
  {
   "cell_type": "code",
   "execution_count": 2,
   "id": "7f6fa3e9",
   "metadata": {},
   "outputs": [],
   "source": [
    "from gpiozero import LED\n",
    "from aiy.pins import PIN_A\n",
    "\n",
    "led = LED(PIN_A)"
   ]
  },
  {
   "cell_type": "markdown",
   "id": "818ac74b",
   "metadata": {},
   "source": [
    "#### Setup\n",
    "\n",
    "Here we set the volume (0-100), language and create a logger object allowing all the different parts of the code to write messages to a log - or here to the screen."
   ]
  },
  {
   "cell_type": "code",
   "execution_count": 3,
   "id": "3014bfd7",
   "metadata": {
    "scrolled": false
   },
   "outputs": [
    {
     "name": "stderr",
     "output_type": "stream",
     "text": [
      "DEBUG:google.auth.transport.requests:Making request: POST https://oauth2.googleapis.com/token\n",
      "DEBUG:urllib3.connectionpool:Starting new HTTPS connection (1): oauth2.googleapis.com:443\n",
      "DEBUG:urllib3.connectionpool:https://oauth2.googleapis.com:443 \"POST /token HTTP/1.1\" 200 None\n",
      "INFO:__main__:device_model_id: blinkagain-84b8d-blinkagain-gkpqln\n",
      "INFO:__main__:device_id: credible-acre-346021-voice-kit-c4a5e41d-81b9-4282-b312-88075b4aa031\n"
     ]
    }
   ],
   "source": [
    "logger = logging.getLogger(__name__)\n",
    "language, _ = locale.getdefaultlocale()\n",
    "volume = 10\n",
    "\n",
    "logging.basicConfig(level=logging.DEBUG)\n",
    "signal.signal(signal.SIGTERM, lambda signum, frame: sys.exit(0))\n",
    "\n",
    "credentials = auth_helpers.get_assistant_credentials()\n",
    "device_model_id, device_id = device_helpers.get_ids_for_service(credentials)\n",
    "device_handler = device_handler_helpers.DeviceRequestHandler(device_id)\n",
    "\n",
    "logger.info('device_model_id: %s', device_model_id)\n",
    "logger.info('device_id: %s', device_id)"
   ]
  },
  {
   "cell_type": "markdown",
   "id": "613342f1",
   "metadata": {},
   "source": [
    "#### Custom handlers\n",
    "\n",
    "Once we have configured curom traits (like turning the servo), we need to add the code that handles those requests here."
   ]
  },
  {
   "cell_type": "code",
   "execution_count": 6,
   "id": "f80ffb35",
   "metadata": {},
   "outputs": [],
   "source": [
    "#------------------------------------------------------------------------------\n",
    "# Add custom device handlers here\n",
    "#------------------------------------------------------------------------------\n",
    "\n",
    "@device_handler.command('com.example.commands.BlinkLight')\n",
    "\n",
    "def blink(speed, number):\n",
    "    logging.info('Blinking device %s times.' % number)\n",
    "    delay = 0.5\n",
    "    if speed == \"SLOWLY\":\n",
    "        delay = 1\n",
    "    elif speed == \"QUICKLY\":\n",
    "        delay = 0.2\n",
    "\n",
    "    for i in range(int(number)):\n",
    "        logging.info('Device is blinking now.')\n",
    "        led.on()\n",
    "        time.sleep(delay)\n",
    "        led.off()\n",
    "        time.sleep(delay)\n",
    "\n",
    "#------------------------------------------------------------------------------    "
   ]
  },
  {
   "cell_type": "markdown",
   "id": "75b96b32",
   "metadata": {},
   "source": [
    "#### Assistant loop\n",
    "\n",
    "Here is the main part. Basically it waits for the user to press the button and then calls the assistent.conversation() routine to deal with one convsersation. Once it send it goes back waiting for someone to press the button and so on."
   ]
  },
  {
   "cell_type": "code",
   "execution_count": 7,
   "id": "fcd57627",
   "metadata": {},
   "outputs": [
    {
     "name": "stderr",
     "output_type": "stream",
     "text": [
      "DEBUG:google.auth.transport.requests:Making request: POST https://oauth2.googleapis.com/token\n",
      "DEBUG:urllib3.connectionpool:Starting new HTTPS connection (1): oauth2.googleapis.com:443\n",
      "DEBUG:urllib3.connectionpool:https://oauth2.googleapis.com:443 \"POST /token HTTP/1.1\" 200 None\n",
      "INFO:aiy.assistant.grpc:Connecting to embeddedassistant.googleapis.com\n",
      "INFO:root:Press button to start conversation...\n",
      "INFO:root:Conversation started!\n",
      "INFO:aiy.assistant.grpc:Recording started.\n",
      "INFO:aiy.assistant.grpc:You said: \"play\".\n",
      "INFO:aiy.assistant.grpc:You said: \"play cat\".\n",
      "INFO:aiy.assistant.grpc:You said: \"play\".\n",
      "INFO:aiy.assistant.grpc:You said: \"Blake to\".\n",
      "INFO:aiy.assistant.grpc:You said: \"Blake tooth\".\n",
      "INFO:aiy.assistant.grpc:You said: \"play toots\".\n",
      "INFO:aiy.assistant.grpc:You said: \"play Toto\".\n",
      "INFO:aiy.assistant.grpc:You said: \"Blake to tie\".\n",
      "INFO:aiy.assistant.grpc:You said: \"Blake to time\".\n",
      "INFO:aiy.assistant.grpc:You said: \"blink 2 times\".\n",
      "INFO:aiy.assistant.grpc:End of audio request detected.\n",
      "INFO:aiy.assistant.grpc:You said: \"blink 2 times\".\n",
      "INFO:aiy.assistant.grpc:Recording stopped.\n",
      "INFO:root:Blinking device 2 times.\n",
      "INFO:root:Device is blinking now.\n",
      "DEBUG:aiy.assistant.grpc:Updating conversation state.\n",
      "INFO:aiy.assistant.grpc:Not expecting follow-on query from user.\n",
      "INFO:aiy.assistant.grpc:Playing started.\n",
      "INFO:root:Waiting for device executions to complete.\n",
      "INFO:root:Device is blinking now.\n",
      "underrun!!! (at least 328.618 ms long)\n",
      "INFO:aiy.assistant.grpc:Playing stopped.\n",
      "INFO:root:Press button to start conversation...\n"
     ]
    },
    {
     "name": "stdout",
     "output_type": "stream",
     "text": [
      "Bye\n"
     ]
    }
   ],
   "source": [
    "with Board() as board:\n",
    "    assistant = AssistantServiceClientWithLed(board=board,\n",
    "                                              volume_percentage=volume,\n",
    "                                              language_code=language,\n",
    "                                              credentials=credentials,\n",
    "                                              device_model_id=device_model_id,\n",
    "                                              device_id=device_id,\n",
    "                                              device_handler=device_handler)\n",
    "\n",
    "    try:\n",
    "        while True:\n",
    "            logging.info('Press button to start conversation...')\n",
    "            board.button.wait_for_press()\n",
    "            logging.info('Conversation started!')\n",
    "            assistant.conversation()\n",
    "    except KeyboardInterrupt:\n",
    "        print(\"Bye\")"
   ]
  },
  {
   "cell_type": "code",
   "execution_count": null,
   "id": "4d0ecf80",
   "metadata": {},
   "outputs": [],
   "source": []
  }
 ],
 "metadata": {
  "kernelspec": {
   "display_name": "Python 3 (ipykernel)",
   "language": "python",
   "name": "python3"
  },
  "language_info": {
   "codemirror_mode": {
    "name": "ipython",
    "version": 3
   },
   "file_extension": ".py",
   "mimetype": "text/x-python",
   "name": "python",
   "nbconvert_exporter": "python",
   "pygments_lexer": "ipython3",
   "version": "3.7.3"
  }
 },
 "nbformat": 4,
 "nbformat_minor": 5
}
