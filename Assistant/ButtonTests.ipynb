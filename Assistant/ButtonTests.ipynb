{
 "cells": [
  {
   "cell_type": "markdown",
   "id": "85294ea7",
   "metadata": {},
   "source": [
    "### Button Tests\n",
    "\n",
    "Here is some code to test and play with the button on top of your Voice Kit.\n",
    "\n",
    "##### Lights"
   ]
  },
  {
   "cell_type": "code",
   "execution_count": 1,
   "id": "6e2301d6",
   "metadata": {},
   "outputs": [],
   "source": [
    "from aiy.leds import Leds, Color\n",
    "import time"
   ]
  },
  {
   "cell_type": "markdown",
   "id": "88487129",
   "metadata": {},
   "source": [
    "First we turn the button red, wait for one second and then turn it off again."
   ]
  },
  {
   "cell_type": "code",
   "execution_count": 3,
   "id": "494c7bee",
   "metadata": {},
   "outputs": [],
   "source": [
    "with Leds() as buttonLight:\n",
    "    buttonLight.update(buttonLight.rgb_on(Color.RED))\n",
    "    time.sleep(1.0)\n",
    "    buttonLight.update(buttonLight.rgb_off())"
   ]
  },
  {
   "cell_type": "markdown",
   "id": "e66dbf08",
   "metadata": {},
   "source": [
    "This time we make a list of colors and then crcle through it lighting up the button in all specified colors."
   ]
  },
  {
   "cell_type": "code",
   "execution_count": 4,
   "id": "74f24845",
   "metadata": {},
   "outputs": [
    {
     "name": "stdout",
     "output_type": "stream",
     "text": [
      "Enjoy the light show\n"
     ]
    }
   ],
   "source": [
    "colors = [Color.RED, Color.GREEN, Color.BLUE, Color.WHITE]\n",
    "\n",
    "with Leds() as buttonLight:\n",
    "    print('Enjoy the light show')\n",
    "    \n",
    "    for c in colors:\n",
    "        buttonLight.update(buttonLight.rgb_on(c))\n",
    "        time.sleep(0.5)\n",
    "\n",
    "    buttonLight.update(buttonLight.rgb_off())"
   ]
  },
  {
   "cell_type": "markdown",
   "id": "1bf6cc7f",
   "metadata": {},
   "source": [
    "##### Pressing the button\n",
    "\n",
    "We can detect of the button is pressed or released and then execute a callback function. Here we define two of those callback functions `lightOn()` and `lightOff()`. Then we enter an infinite loop and if the button is pressed or released we run the callback function. Run the next two cells and try."
   ]
  },
  {
   "cell_type": "code",
   "execution_count": 5,
   "id": "425474a8",
   "metadata": {},
   "outputs": [],
   "source": [
    "from aiy.pins import BUTTON_GPIO_PIN\n",
    "from gpiozero import Button"
   ]
  },
  {
   "cell_type": "code",
   "execution_count": null,
   "id": "11153ec6",
   "metadata": {},
   "outputs": [
    {
     "name": "stdout",
     "output_type": "stream",
     "text": [
      "Press the button. I know you are dying to :)\n"
     ]
    }
   ],
   "source": [
    "def lightOn():\n",
    "    buttonLight.update(buttonLight.rgb_on(Color.RED))\n",
    "    \n",
    "def lightOff():\n",
    "    buttonLight.update(buttonLight.rgb_off())\n",
    "        \n",
    "with Leds() as buttonLight, Button(BUTTON_GPIO_PIN) as button:\n",
    "    try:\n",
    "        print('Press the button. I know you are dying to :)')\n",
    "        while True:\n",
    "            button.when_pressed=lightOn\n",
    "            button.when_released=lightOff\n",
    "    except KeyboardInterrupt:\n",
    "        print('Bye')"
   ]
  },
  {
   "cell_type": "code",
   "execution_count": null,
   "id": "e646d1a9",
   "metadata": {},
   "outputs": [],
   "source": []
  }
 ],
 "metadata": {
  "kernelspec": {
   "display_name": "Python 3 (ipykernel)",
   "language": "python",
   "name": "python3"
  },
  "language_info": {
   "codemirror_mode": {
    "name": "ipython",
    "version": 3
   },
   "file_extension": ".py",
   "mimetype": "text/x-python",
   "name": "python",
   "nbconvert_exporter": "python",
   "pygments_lexer": "ipython3",
   "version": "3.7.3"
  }
 },
 "nbformat": 4,
 "nbformat_minor": 5
}
