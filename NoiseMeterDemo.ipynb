{
 "cells": [
  {
   "cell_type": "markdown",
   "id": "44cb7335",
   "metadata": {},
   "source": [
    "Need to install pyaudio using the command `sudo pip3 install pyaudio` in a terminal. The secomnd cell creates some warning which can be ignored - I think."
   ]
  },
  {
   "cell_type": "code",
   "execution_count": null,
   "id": "a24e1d2d",
   "metadata": {},
   "outputs": [],
   "source": [
    "import pyaudio\n",
    "import time\n",
    "from math import log10\n",
    "import audioop\n",
    "\n",
    "from IPython.display import clear_output"
   ]
  },
  {
   "cell_type": "code",
   "execution_count": null,
   "id": "f5cf3b4b",
   "metadata": {},
   "outputs": [],
   "source": [
    "p = pyaudio.PyAudio()\n",
    "\n",
    "WIDTH = 2\n",
    "RATE = int(p.get_default_input_device_info()['defaultSampleRate'])\n",
    "DEVICE = p.get_default_input_device_info()['index']\n",
    "rms = 1"
   ]
  },
  {
   "cell_type": "code",
   "execution_count": null,
   "id": "0969b826",
   "metadata": {},
   "outputs": [],
   "source": [
    "def callback(in_data, frame_count, time_info, status):\n",
    "    global rms\n",
    "    rms = audioop.rms(in_data, WIDTH) / 32767\n",
    "    return in_data, pyaudio.paContinue\n",
    "\n",
    "stream = p.open(format=p.get_format_from_width(WIDTH),\n",
    "                input_device_index=DEVICE,\n",
    "                channels=1,\n",
    "                rate=RATE,\n",
    "                input=True,\n",
    "                output=False,\n",
    "                stream_callback=callback)\n",
    "\n",
    "stream.start_stream()\n",
    "\n",
    "\n",
    "while stream.is_active(): \n",
    "    db = 20 * log10(rms)\n",
    "    print(f\"RMS: {rms:.4f} DB: {db:.1f}\") \n",
    "    clear_output(wait=True)\n",
    "    # refresh every 0.3 seconds \n",
    "    time.sleep(0.3)\n",
    "\n",
    "stream.stop_stream()\n",
    "stream.close()\n",
    "\n",
    "p.terminate()"
   ]
  },
  {
   "cell_type": "code",
   "execution_count": null,
   "id": "98729de7",
   "metadata": {},
   "outputs": [],
   "source": []
  },
  {
   "cell_type": "code",
   "execution_count": null,
   "id": "80590d2f",
   "metadata": {},
   "outputs": [],
   "source": []
  }
 ],
 "metadata": {
  "kernelspec": {
   "display_name": "Python 3 (ipykernel)",
   "language": "python",
   "name": "python3"
  },
  "language_info": {
   "codemirror_mode": {
    "name": "ipython",
    "version": 3
   },
   "file_extension": ".py",
   "mimetype": "text/x-python",
   "name": "python",
   "nbconvert_exporter": "python",
   "pygments_lexer": "ipython3",
   "version": "3.7.3"
  }
 },
 "nbformat": 4,
 "nbformat_minor": 5
}
